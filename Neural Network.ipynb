{
 "cells": [
  {
   "cell_type": "code",
   "execution_count": 1,
   "metadata": {},
   "outputs": [],
   "source": [
    "import numpy as np"
   ]
  },
  {
   "cell_type": "code",
   "execution_count": 2,
   "metadata": {},
   "outputs": [],
   "source": [
    "def sigmoid(x):\n",
    "    \"\"\"\n",
    "    Returns the sigmoid value of the input value(an array in our case)\n",
    "    \"\"\"\n",
    "    return (1/(1 + np.exp(-x)))\n",
    "\n",
    "def slope_of_sigmoid(x):\n",
    "    \"\"\"\n",
    "    Returns the slope of the input value(The formula used is to\n",
    "    calculate the slope from the output of a sigmoid function)\n",
    "    \"\"\"\n",
    "    return x*(1 - x)"
   ]
  },
  {
   "cell_type": "code",
   "execution_count": 3,
   "metadata": {},
   "outputs": [],
   "source": [
    "X = np.array([[0,0,0,1],\n",
    "             [0,1,1,0],\n",
    "             [1,1,0,1],\n",
    "             [1,1,1,1],\n",
    "             [1,0,1,1]])\n",
    "\n",
    "y = np.array([[0,1,1,0,1]]).T\n",
    "\n",
    "synapse_0 = 2*np.random.random((4,5)) + 1\n",
    "synapse_1 = 2*np.random.random((5,1)) + 1"
   ]
  },
  {
   "cell_type": "code",
   "execution_count": 4,
   "metadata": {},
   "outputs": [
    {
     "name": "stdout",
     "output_type": "stream",
     "text": [
      "Error: 0.3999712275299906\n",
      "Error: 0.011705361703676583\n",
      "Error: 0.007771429542443184\n",
      "Error: 0.006200306545140344\n",
      "Error: 0.0053008474920707375\n"
     ]
    }
   ],
   "source": [
    "for iteration in range(50000):\n",
    "    layer_0 = X\n",
    "    layer_1 = sigmoid(np.dot(layer_0, synapse_0))\n",
    "    layer_2 = sigmoid(np.dot(layer_1, synapse_1))\n",
    "    \n",
    "    # Now, we will calculate the error's in layer_2 as well as layer_1\n",
    "    layer_2_error = y - layer_2\n",
    "    layer_2_delta = layer_2_error * slope_of_sigmoid(layer_2)\n",
    "    \n",
    "    \"\"\"Try to interchange the positions of l2 and syn_1 in the below statement\"\"\"\n",
    "    layer_1_error = np.dot(layer_2_delta, synapse_1.T)\n",
    "    layer_1_delta = layer_1_error * slope_of_sigmoid(layer_1)\n",
    "    \n",
    "    \n",
    "    synapse_1 += (np.dot(layer_1.T, layer_2_delta))\n",
    "    synapse_0 += (np.dot(layer_0.T, layer_1_delta))\n",
    "    \n",
    "    if iteration % 10000 == 0:\n",
    "        mae = np.mean(abs(layer_2_error))\n",
    "        print(f\"Error: {mae}\")"
   ]
  },
  {
   "cell_type": "code",
   "execution_count": 5,
   "metadata": {},
   "outputs": [
    {
     "name": "stdout",
     "output_type": "stream",
     "text": [
      "[[0.00111758]\n",
      " [0.99565271]\n",
      " [0.99569543]\n",
      " [0.00773286]\n",
      " [0.99399828]]\n",
      "The rounded predictions are:\n",
      " [[0.]\n",
      " [1.]\n",
      " [1.]\n",
      " [0.]\n",
      " [1.]]\n"
     ]
    }
   ],
   "source": [
    "np.set_printoptions(suppress=True)\n",
    "print(layer_2)\n",
    "print(f\"The rounded predictions are:\\n {np.round(layer_2)}\")"
   ]
  },
  {
   "cell_type": "code",
   "execution_count": null,
   "metadata": {},
   "outputs": [],
   "source": []
  }
 ],
 "metadata": {
  "kernelspec": {
   "display_name": "Python [conda env:ML] *",
   "language": "python",
   "name": "conda-env-ML-py"
  },
  "language_info": {
   "codemirror_mode": {
    "name": "ipython",
    "version": 3
   },
   "file_extension": ".py",
   "mimetype": "text/x-python",
   "name": "python",
   "nbconvert_exporter": "python",
   "pygments_lexer": "ipython3",
   "version": "3.6.8"
  }
 },
 "nbformat": 4,
 "nbformat_minor": 2
}
