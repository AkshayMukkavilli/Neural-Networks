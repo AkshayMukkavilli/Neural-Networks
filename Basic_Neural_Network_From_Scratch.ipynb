{
 "cells": [
  {
   "cell_type": "code",
   "execution_count": 1,
   "metadata": {},
   "outputs": [],
   "source": [
    "import numpy as np"
   ]
  },
  {
   "cell_type": "code",
   "execution_count": 2,
   "metadata": {},
   "outputs": [],
   "source": [
    "X = np.array([[0,0,1],\n",
    "              [0,1,1],\n",
    "              [1,0,1],\n",
    "              [1,1,1]])\n",
    "\n",
    "y = np.array([[0,1,1,0]]).T"
   ]
  },
  {
   "cell_type": "code",
   "execution_count": 3,
   "metadata": {},
   "outputs": [],
   "source": [
    "def sigmoid(x):\n",
    "    return (1/(1 + np.exp(-(x))))\n",
    "\n",
    "def slope_from_sigmoid_output(x):\n",
    "    return x*(1-x)"
   ]
  },
  {
   "cell_type": "code",
   "execution_count": 4,
   "metadata": {},
   "outputs": [
    {
     "data": {
      "text/plain": [
       "array([4.53978687e-05, 1.23394576e-04, 3.35350130e-04, 9.11051194e-04,\n",
       "       2.47262316e-03, 6.69285092e-03, 1.79862100e-02, 4.74258732e-02,\n",
       "       1.19202922e-01, 2.68941421e-01, 5.00000000e-01, 7.31058579e-01,\n",
       "       8.80797078e-01, 9.52574127e-01, 9.82013790e-01, 9.93307149e-01,\n",
       "       9.97527377e-01, 9.99088949e-01, 9.99664650e-01, 9.99876605e-01,\n",
       "       9.99954602e-01])"
      ]
     },
     "execution_count": 4,
     "metadata": {},
     "output_type": "execute_result"
    }
   ],
   "source": [
    "list_1 = np.arange(-10,11)\n",
    "list_2 = sigmoid(list_1)\n",
    "list_2"
   ]
  },
  {
   "cell_type": "code",
   "execution_count": 5,
   "metadata": {},
   "outputs": [],
   "source": [
    "from matplotlib import pyplot as plt"
   ]
  },
  {
   "cell_type": "code",
   "execution_count": 6,
   "metadata": {},
   "outputs": [
    {
     "data": {
      "image/png": "[encoded data removed]",
      "text/plain": [
       "<Figure size 432x288 with 1 Axes>"
      ]
     },
     "metadata": {
      "needs_background": "light"
     },
     "output_type": "display_data"
    }
   ],
   "source": [
    "plt.xlabel(\"Input Values\")\n",
    "plt.ylabel(\"Sigmoid Values\")\n",
    "plt.plot(list_1, list_2)\n",
    "plt.grid()"
   ]
  },
  {
   "cell_type": "code",
   "execution_count": 7,
   "metadata": {},
   "outputs": [],
   "source": [
    "np.random.seed(0)"
   ]
  },
  {
   "cell_type": "code",
   "execution_count": 10,
   "metadata": {},
   "outputs": [
    {
     "name": "stdout",
     "output_type": "stream",
     "text": [
      "[[0.00174383]\n",
      " [0.99388694]\n",
      " [0.99408911]\n",
      " [0.00748608]]\n"
     ]
    }
   ],
   "source": [
    "synapse_0 = 2*np.random.random((3,4)) + 1\n",
    "synapse_1 = 2*np.random.random((4,1)) + 1\n",
    "\n",
    "for iteration in range(50000):\n",
    "    \n",
    "    layer_0 = X\n",
    "    layer_1 = sigmoid(np.dot(layer_0, synapse_0))\n",
    "    layer_2 = sigmoid(np.dot(layer_1, synapse_1))\n",
    "    \n",
    "    layer_2_error = y - layer_2\n",
    "    layer_2_delta = layer_2_error * slope_from_sigmoid_output(layer_2)\n",
    "    \n",
    "    layer_1_error = np.dot(layer_2_delta, synapse_1.T)\n",
    "    layer_1_delta = layer_1_error * slope_from_sigmoid_output(layer_1)\n",
    "    \n",
    "    #updating the weights now\n",
    "    synapse_1 += layer_1.dot(layer_2_delta)\n",
    "    synapse_0 += layer_0.T.dot(layer_1_delta)\n",
    "\n",
    "print(layer_2)"
   ]
  },
  {
   "cell_type": "code",
   "execution_count": 14,
   "metadata": {},
   "outputs": [
    {
     "name": "stdout",
     "output_type": "stream",
     "text": [
      "The error on 0th iteration is:-0.0006720731454560488\n",
      "The error on 10000th iteration is:-0.0008166259629823472\n",
      "The error on 20000th iteration is:-0.0005483871508811201\n",
      "The error on 30000th iteration is:-0.00043669209623925986\n",
      "The error on 40000th iteration is:-0.0003719582556330637\n",
      "[[0.00183153]\n",
      " [0.99812783]\n",
      " [0.99312299]\n",
      " [0.00823194]]\n"
     ]
    }
   ],
   "source": [
    "synapse_0 = 2*np.random.random((3,4)) + 1\n",
    "synapse_1 = 2*np.random.random((4,1)) + 1\n",
    "\n",
    "for iteration in range(50000):\n",
    "    \n",
    "    layer_0 = X\n",
    "    layer_1 = sigmoid(np.dot(layer_0, synapse_0))\n",
    "    layer_2 = sigmoid(np.dot(layer_1, synapse_1))\n",
    "    \n",
    "    if iteration % 10000 == 0:\n",
    "        print(f\"The error on {iteration}th iteration is:{np.mean(layer_2_error)}\")\n",
    "    layer_2_error = y - layer_2\n",
    "    layer_2_delta = layer_2_error * slope_from_sigmoid_output(layer_2)\n",
    "    \n",
    "    layer_1_error = np.dot(layer_2_delta, synapse_1.T)\n",
    "    layer_1_delta = layer_1_error * slope_from_sigmoid_output(layer_1)\n",
    "    \n",
    "    #updating the weights now\n",
    "    synapse_1 += layer_1.dot(layer_2_delta)\n",
    "    synapse_0 += layer_0.T.dot(layer_1_delta)\n",
    "\n",
    "print(layer_2)"
   ]
  },
  {
   "cell_type": "code",
   "execution_count": null,
   "metadata": {},
   "outputs": [],
   "source": []
  }
 ],
 "metadata": {
  "kernelspec": {
   "display_name": "Python [conda env:venv] *",
   "language": "python",
   "name": "conda-env-venv-py"
  },
  "language_info": {
   "codemirror_mode": {
    "name": "ipython",
    "version": 3
   },
   "file_extension": ".py",
   "mimetype": "text/x-python",
   "name": "python",
   "nbconvert_exporter": "python",
   "pygments_lexer": "ipython3",
   "version": "3.6.8"
  }
 },
 "nbformat": 4,
 "nbformat_minor": 2
}
